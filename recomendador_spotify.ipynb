{
  "nbformat": 4,
  "nbformat_minor": 0,
  "metadata": {
    "colab": {
      "provenance": [],
      "toc_visible": true,
      "authorship_tag": "ABX9TyPg6kTh7kB3T+y229j4P9pT",
      "include_colab_link": true
    },
    "kernelspec": {
      "name": "python3",
      "display_name": "Python 3"
    },
    "language_info": {
      "name": "python"
    }
  },
  "cells": [
    {
      "cell_type": "markdown",
      "metadata": {
        "id": "view-in-github",
        "colab_type": "text"
      },
      "source": [
        "<a href=\"https://colab.research.google.com/github/pmachadors/Recomendador-Spotify/blob/main/recomendador_spotify.ipynb\" target=\"_parent\"><img src=\"https://colab.research.google.com/assets/colab-badge.svg\" alt=\"Open In Colab\"/></a>"
      ]
    },
    {
      "cell_type": "code",
      "execution_count": null,
      "metadata": {
        "colab": {
          "base_uri": "https://localhost:8080/"
        },
        "id": "TMsIQm4zhBwG",
        "outputId": "b2b6d5e7-66e7-4057-933b-db6b6a60a87e"
      },
      "outputs": [
        {
          "output_type": "stream",
          "name": "stdout",
          "text": [
            "Looking in indexes: https://pypi.org/simple, https://us-python.pkg.dev/colab-wheels/public/simple/\n",
            "Collecting spotipy\n",
            "  Downloading spotipy-2.22.0-py3-none-any.whl (28 kB)\n",
            "Collecting redis>=3.5.3\n",
            "  Downloading redis-4.4.0-py3-none-any.whl (236 kB)\n",
            "\u001b[K     |████████████████████████████████| 236 kB 6.9 MB/s \n",
            "\u001b[?25hCollecting urllib3>=1.26.0\n",
            "  Downloading urllib3-1.26.13-py2.py3-none-any.whl (140 kB)\n",
            "\u001b[K     |████████████████████████████████| 140 kB 42.7 MB/s \n",
            "\u001b[?25hRequirement already satisfied: six>=1.15.0 in /usr/local/lib/python3.8/dist-packages (from spotipy) (1.15.0)\n",
            "Collecting requests>=2.25.0\n",
            "  Downloading requests-2.28.1-py3-none-any.whl (62 kB)\n",
            "\u001b[K     |████████████████████████████████| 62 kB 512 kB/s \n",
            "\u001b[?25hRequirement already satisfied: async-timeout>=4.0.2 in /usr/local/lib/python3.8/dist-packages (from redis>=3.5.3->spotipy) (4.0.2)\n",
            "Requirement already satisfied: idna<4,>=2.5 in /usr/local/lib/python3.8/dist-packages (from requests>=2.25.0->spotipy) (2.10)\n",
            "Requirement already satisfied: certifi>=2017.4.17 in /usr/local/lib/python3.8/dist-packages (from requests>=2.25.0->spotipy) (2022.9.24)\n",
            "Requirement already satisfied: charset-normalizer<3,>=2 in /usr/local/lib/python3.8/dist-packages (from requests>=2.25.0->spotipy) (2.1.1)\n",
            "Installing collected packages: urllib3, requests, redis, spotipy\n",
            "  Attempting uninstall: urllib3\n",
            "    Found existing installation: urllib3 1.24.3\n",
            "    Uninstalling urllib3-1.24.3:\n",
            "      Successfully uninstalled urllib3-1.24.3\n",
            "  Attempting uninstall: requests\n",
            "    Found existing installation: requests 2.23.0\n",
            "    Uninstalling requests-2.23.0:\n",
            "      Successfully uninstalled requests-2.23.0\n",
            "Successfully installed redis-4.4.0 requests-2.28.1 spotipy-2.22.0 urllib3-1.26.13\n",
            "Looking in indexes: https://pypi.org/simple, https://us-python.pkg.dev/colab-wheels/public/simple/\n",
            "Collecting pyspark\n",
            "  Downloading pyspark-3.3.1.tar.gz (281.4 MB)\n",
            "\u001b[K     |████████████████████████████████| 281.4 MB 33 kB/s \n",
            "\u001b[?25hCollecting py4j==0.10.9.5\n",
            "  Downloading py4j-0.10.9.5-py2.py3-none-any.whl (199 kB)\n",
            "\u001b[K     |████████████████████████████████| 199 kB 50.4 MB/s \n",
            "\u001b[?25hBuilding wheels for collected packages: pyspark\n",
            "  Building wheel for pyspark (setup.py) ... \u001b[?25l\u001b[?25hdone\n",
            "  Created wheel for pyspark: filename=pyspark-3.3.1-py2.py3-none-any.whl size=281845512 sha256=87ac724637a97c137994f8a0cdd587ea31e17153a019d04bb54b7915827b007d\n",
            "  Stored in directory: /root/.cache/pip/wheels/43/dc/11/ec201cd671da62fa9c5cc77078235e40722170ceba231d7598\n",
            "Successfully built pyspark\n",
            "Installing collected packages: py4j, pyspark\n",
            "Successfully installed py4j-0.10.9.5 pyspark-3.3.1\n"
          ]
        }
      ],
      "source": [
        "!pip install spotipy\n",
        "!pip install pyspark"
      ]
    },
    {
      "cell_type": "markdown",
      "source": [
        "# Importando Bibliotecas"
      ],
      "metadata": {
        "id": "Wz3zsfE5oNSm"
      }
    },
    {
      "cell_type": "code",
      "source": [
        "import spotipy\n",
        "from spotipy.oauth2 import SpotifyOAuth, SpotifyClientCredentials\n",
        "from pyspark.sql import SparkSession\n",
        "from pyspark.sql import functions as f\n",
        "from pyspark.ml.feature import VectorAssembler, StandardScaler, PCA\n",
        "from pyspark.ml import Pipeline\n",
        "from pyspark.ml.clustering import KMeans\n",
        "from scipy.spatial.distance import euclidean\n",
        "from pyspark.sql.types import FloatType\n",
        "from pyspark import SparkFiles"
      ],
      "metadata": {
        "id": "iebpUWMgoPoU"
      },
      "execution_count": null,
      "outputs": []
    },
    {
      "cell_type": "markdown",
      "source": [
        "# Leitura da base"
      ],
      "metadata": {
        "id": "vWeY-ibEs8Vm"
      }
    },
    {
      "cell_type": "code",
      "source": [
        "sessao_spark = SparkSession.builder.appName('recomendador_spotify').getOrCreate()\n",
        "\n",
        "url_dados = 'https://github.com/IgorNascAlves/dados/blob/main/dados_musicas.csv?raw=true'\n",
        "sessao_spark.sparkContext.addFile(url_dados)\n",
        "path_dados_file = 'file://' + SparkFiles.get('dados_musicas.csv')\n",
        "dados = sessao_spark.read.csv(path_dados_file, header=True, sep=';', inferSchema=True)\n",
        "\n",
        "dados.show(5, truncate = False)"
      ],
      "metadata": {
        "colab": {
          "base_uri": "https://localhost:8080/"
        },
        "id": "KXgcjllNs-xs",
        "outputId": "13641d07-e13b-4c38-b7b7-cf47dd3a61e3"
      },
      "execution_count": null,
      "outputs": [
        {
          "output_type": "stream",
          "name": "stdout",
          "text": [
            "+------------------+----+------------+------------+------------+-----------+------------------+--------+----------------------+----------------+---+--------+-------------------+----+-------------------+----------+-----------+-------+----------------------------+\n",
            "|valence           |year|acousticness|artists     |danceability|duration_ms|energy            |explicit|id                    |instrumentalness|key|liveness|loudness           |mode|name               |popularity|speechiness|tempo  |artists_song                |\n",
            "+------------------+----+------------+------------+------------+-----------+------------------+--------+----------------------+----------------+---+--------+-------------------+----+-------------------+----------+-----------+-------+----------------------------+\n",
            "|0.285             |2000|0.00239     |Coldplay    |0.429       |266773     |0.6609999999999999|0       |3AJwUDP919kvQ9QcozQPxg|1.21E-4         |11 |0.234   |-7.227             |1   |Yellow             |84        |0.0281     |173.372|Coldplay - Yellow           |\n",
            "|0.613             |2000|0.143       |OutKast     |0.843       |270507     |0.8059999999999999|1       |0I3q5fE6wg7LIfHGngUTnV|0.0             |4  |0.0771  |-5.9460000000000015|0   |Ms. Jackson        |80        |0.269      |94.948 |OutKast - Ms. Jackson       |\n",
            "|0.4               |2000|0.00958     |Linkin Park |0.556       |216880     |0.8640000000000001|0       |60a0Rd6pjrkxjPbaKzXjfq|0.0             |3  |0.209   |-5.87              |0   |In the End         |84        |0.0584     |105.143|Linkin Park - In the End    |\n",
            "|0.5429999999999999|2000|0.00664     |3 Doors Down|0.545       |233933     |0.865             |0       |6ZOBP3NvffbU4SZcrnt1k6|1.1E-5          |11 |0.168   |-5.7079999999999975|0   |Kryptonite         |78        |0.0286     |99.009 |3 Doors Down - Kryptonite   |\n",
            "|0.76              |2000|0.0302      |Eminem      |0.949       |284200     |0.6609999999999999|1       |3yfqSUWxFvZELEM4PmlwIR|0.0             |5  |0.0454  |-4.244             |0   |The Real Slim Shady|80        |0.0572     |104.504|Eminem - The Real Slim Shady|\n",
            "+------------------+----+------------+------------+------------+-----------+------------------+--------+----------------------+----------------+---+--------+-------------------+----+-------------------+----------+-----------+-------+----------------------------+\n",
            "only showing top 5 rows\n",
            "\n"
          ]
        }
      ]
    },
    {
      "cell_type": "markdown",
      "source": [
        "# Criando sessão Spotipy"
      ],
      "metadata": {
        "id": "YtO8C1btooqp"
      }
    },
    {
      "cell_type": "code",
      "source": [
        "scope = \"user-library-read playlist-modify-private\"\n",
        "\n",
        "OAuth = SpotifyOAuth(\n",
        "        scope=scope,         \n",
        "        redirect_uri='http://localhost:5000/callback',\n",
        "        client_id = '9c72f0a29993448c84b3b76265f4393a',\n",
        "        client_secret = '94d2411b2f094ea187dcdf27a45043f4')\n"
      ],
      "metadata": {
        "id": "mKpfkK0_osfE"
      },
      "execution_count": null,
      "outputs": []
    },
    {
      "cell_type": "code",
      "source": [
        "client_credentials_manager = SpotifyClientCredentials(client_id = '9c72f0a29993448c84b3b76265f4393a',\n",
        "                                                      client_secret = '94d2411b2f094ea187dcdf27a45043f4')\n",
        "\n",
        "sp = spotipy.Spotify(client_credentials_manager = client_credentials_manager)"
      ],
      "metadata": {
        "id": "Mep396VEo-wv"
      },
      "execution_count": null,
      "outputs": []
    },
    {
      "cell_type": "markdown",
      "source": [
        "# Pipeline"
      ],
      "metadata": {
        "id": "C6h0fwL1rX69"
      }
    },
    {
      "cell_type": "code",
      "source": [
        "x = dados.columns\n",
        "x.remove('artists')\n",
        "x.remove('id')\n",
        "x.remove('name')\n",
        "x.remove('artists_song')\n",
        "x\n"
      ],
      "metadata": {
        "colab": {
          "base_uri": "https://localhost:8080/"
        },
        "id": "lrHEpJ4jraNV",
        "outputId": "7d6685f9-9099-4b5c-907e-d583c41f5a50"
      },
      "execution_count": null,
      "outputs": [
        {
          "output_type": "execute_result",
          "data": {
            "text/plain": [
              "['valence',\n",
              " 'year',\n",
              " 'acousticness',\n",
              " 'danceability',\n",
              " 'duration_ms',\n",
              " 'energy',\n",
              " 'explicit',\n",
              " 'instrumentalness',\n",
              " 'key',\n",
              " 'liveness',\n",
              " 'loudness',\n",
              " 'mode',\n",
              " 'popularity',\n",
              " 'speechiness',\n",
              " 'tempo']"
            ]
          },
          "metadata": {},
          "execution_count": 19
        }
      ]
    },
    {
      "cell_type": "code",
      "source": [
        "pca_pipeline = Pipeline(stages=[VectorAssembler(inputCols=x,outputCol='features'),\\\n",
        "                StandardScaler(inputCol='features', outputCol='scaled_features'),\\\n",
        "                PCA(k=6, inputCol='scaled_features',outputCol='pca_features')\\\n",
        "                ])\n",
        "\n",
        "model_pipeline = pca_pipeline.fit(dados)\n",
        "projection = model_pipeline.transform(dados)\n",
        "\n",
        "projection.select('pca_features').show(5, truncate=False)\n"
      ],
      "metadata": {
        "colab": {
          "base_uri": "https://localhost:8080/"
        },
        "id": "AZrmeR7Qu1T6",
        "outputId": "f1b9c5d9-2a66-4933-dcfc-c9f8814f4633"
      },
      "execution_count": null,
      "outputs": [
        {
          "output_type": "stream",
          "name": "stdout",
          "text": [
            "+----------------------------------------------------------------------------------------------------------------------+\n",
            "|pca_features                                                                                                          |\n",
            "+----------------------------------------------------------------------------------------------------------------------+\n",
            "|[-34.71004464775704,-165.36848784906178,-11.163498729833321,-139.11374280854434,-14.152192300931375,6.254422223810391]|\n",
            "|[-36.49885762774905,-167.85185045616555,-10.729023248907561,-135.904352656713,-13.388401890587229,3.9729807278308606] |\n",
            "|[-35.460300916940554,-165.99633344577884,-11.361290348241592,-138.24276881247,-13.866654919305779,4.342675920458719]  |\n",
            "|[-35.56301325520584,-165.59515096480607,-11.460226007031382,-137.52095740570041,-15.56854280392272,4.542073725584271] |\n",
            "|[-36.54556974907567,-167.37512505802482,-11.881276527236555,-136.27798590243984,-14.05684799034454,3.583390145779156] |\n",
            "+----------------------------------------------------------------------------------------------------------------------+\n",
            "only showing top 5 rows\n",
            "\n"
          ]
        }
      ]
    },
    {
      "cell_type": "markdown",
      "source": [
        "# K-means"
      ],
      "metadata": {
        "id": "UhU4IK1kvUrT"
      }
    },
    {
      "cell_type": "code",
      "source": [
        "SEED = 1 \n",
        "\n",
        "kmeans = KMeans(featuresCol='pca_features', predictionCol='cluster_pca',k=50, seed=SEED)\n",
        "model_kmeans = kmeans.fit(projection)\n",
        "\n",
        "projection_kmeans = model_kmeans.transform(projection)\n",
        "\n",
        "projection_kmeans.select('pca_features','cluster_pca').show(5, truncate=False)"
      ],
      "metadata": {
        "colab": {
          "base_uri": "https://localhost:8080/"
        },
        "id": "62DsPKW_vWL4",
        "outputId": "bd7a0a48-7d19-45b6-b91c-e4ce8f0167bb"
      },
      "execution_count": null,
      "outputs": [
        {
          "output_type": "stream",
          "name": "stdout",
          "text": [
            "+----------------------------------------------------------------------------------------------------------------------+-----------+\n",
            "|pca_features                                                                                                          |cluster_pca|\n",
            "+----------------------------------------------------------------------------------------------------------------------+-----------+\n",
            "|[-34.71004464775704,-165.36848784906178,-11.163498729833321,-139.11374280854434,-14.152192300931375,6.254422223810391]|46         |\n",
            "|[-36.49885762774905,-167.85185045616555,-10.729023248907561,-135.904352656713,-13.388401890587229,3.9729807278308606] |16         |\n",
            "|[-35.460300916940554,-165.99633344577884,-11.361290348241592,-138.24276881247,-13.866654919305779,4.342675920458719]  |14         |\n",
            "|[-35.56301325520584,-165.59515096480607,-11.460226007031382,-137.52095740570041,-15.56854280392272,4.542073725584271] |41         |\n",
            "|[-36.54556974907567,-167.37512505802482,-11.881276527236555,-136.27798590243984,-14.05684799034454,3.583390145779156] |37         |\n",
            "+----------------------------------------------------------------------------------------------------------------------+-----------+\n",
            "only showing top 5 rows\n",
            "\n"
          ]
        }
      ]
    },
    {
      "cell_type": "markdown",
      "source": [],
      "metadata": {
        "id": "TrdBKn5tqx-J"
      }
    },
    {
      "cell_type": "markdown",
      "source": [
        "# Recomendador de músicas"
      ],
      "metadata": {
        "id": "ywo_5xnHqznu"
      }
    },
    {
      "cell_type": "code",
      "source": [
        "def recomendador(nome_musica):\n",
        "  # Calcula musicas recomendadas\n",
        "  cluster = projection_kmeans.filter(projection_kmeans.artists_song == nome_musica).select('cluster_pca').collect()[0][0]\n",
        "  musicas_recomendadas = projection_kmeans.filter(projection_kmeans.cluster_pca == cluster)\\\n",
        "                                       .select('artists_song', 'id', 'pca_features')\n",
        "  componenetes_musica = musicas_recomendadas.filter(musicas_recomendadas.artists_song == nome_musica)\\\n",
        "                                          .select('pca_features').collect()[0][0]\n",
        "\n",
        "  def calcula_distance(value):\n",
        "    return euclidean(componenetes_musica, value)\n",
        "\n",
        "  udf_calcula_distance = f.udf(calcula_distance, FloatType())\n",
        "\n",
        "  musicas_recomendadas_dist = musicas_recomendadas.withColumn('Dist', udf_calcula_distance('pca_features'))\n",
        "\n",
        "  recomendadas = sessao_spark.createDataFrame(musicas_recomendadas_dist.sort('Dist').take(10)).select(['artists_song', 'id', 'Dist'])\n",
        "\n",
        "  recomendadas.select('id','artists_song').show(truncate=False)\n",
        "\n",
        "  # Pegar informações da API \n",
        "\n",
        "  playlist_id = recomendadas.select('id').collect()\n",
        "\n",
        "  playlist_track = []\n",
        "\n",
        "  for id in playlist_id:\n",
        "    playlist_track.append(sp.track(id[0]))\n",
        "\n",
        "  return len(playlist_track)"
      ],
      "metadata": {
        "id": "4D7k1gcUq2HJ"
      },
      "execution_count": null,
      "outputs": []
    },
    {
      "cell_type": "code",
      "source": [
        "recomendador('Linkin Park - In the End')\n",
        "# track_id = sp.search(q='artist:' + artist + ' track:' + track, type='track')\n",
        "# track_id\n"
      ],
      "metadata": {
        "colab": {
          "base_uri": "https://localhost:8080/"
        },
        "id": "CGp6aFz8v1-k",
        "outputId": "0ae38853-09ea-48b3-c3a5-8dd553925b2c"
      },
      "execution_count": null,
      "outputs": [
        {
          "output_type": "stream",
          "name": "stdout",
          "text": [
            "+----------------------+--------------------------------------+\n",
            "|id                    |artists_song                          |\n",
            "+----------------------+--------------------------------------+\n",
            "|60a0Rd6pjrkxjPbaKzXjfq|Linkin Park - In the End              |\n",
            "|4vqmSmLC0dbw1UF7mmUDZe|Falling In Reverse - Raised By Wolves |\n",
            "|5jnp8E61wcoF6qIEtDHQnJ|ODESZA - All We Need (feat. Shy Girls)|\n",
            "|4Sfa7hdVkqlM8UW5LsSY3F|Passion Pit - Take a Walk             |\n",
            "|4E6cwWJWZw2zWf7VFbH7wf|Sara Bareilles - Love Song            |\n",
            "|5r00wpsojd4mBYaQFDvni7|Luke Bryan - Roller Coaster           |\n",
            "|2aMb1asq5acm7cDYlFsYhY|Chris Tomlin - Home                   |\n",
            "|3pOMQhSSzx6IZ96kMef6i1|Pop Evil - Be Legendary               |\n",
            "|2Kl1E3NdbzT7vVi93TffoX|Bastille - Pompeii - Audien Remix     |\n",
            "|7I3skNaQdvZSS7zXY2VHId|Twenty One Pilots - The Hype          |\n",
            "+----------------------+--------------------------------------+\n",
            "\n"
          ]
        },
        {
          "output_type": "execute_result",
          "data": {
            "text/plain": [
              "10"
            ]
          },
          "metadata": {},
          "execution_count": 92
        }
      ]
    }
  ]
}